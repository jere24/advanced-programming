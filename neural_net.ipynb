{
 "cells": [
  {
   "cell_type": "code",
   "execution_count": 1,
   "metadata": {
    "scrolled": true
   },
   "outputs": [
    {
     "name": "stdout",
     "output_type": "stream",
     "text": [
      "Requirement already satisfied: keras in /home/jere/anaconda3/lib/python3.7/site-packages (2.3.1)\n",
      "Requirement already satisfied: six>=1.9.0 in /home/jere/anaconda3/lib/python3.7/site-packages (from keras) (1.14.0)\n",
      "Requirement already satisfied: keras-applications>=1.0.6 in /home/jere/anaconda3/lib/python3.7/site-packages (from keras) (1.0.8)\n",
      "Requirement already satisfied: pyyaml in /home/jere/anaconda3/lib/python3.7/site-packages (from keras) (5.3)\n",
      "Requirement already satisfied: scipy>=0.14 in /home/jere/anaconda3/lib/python3.7/site-packages (from keras) (1.4.1)\n",
      "Requirement already satisfied: numpy>=1.9.1 in /home/jere/anaconda3/lib/python3.7/site-packages (from keras) (1.18.1)\n",
      "Requirement already satisfied: keras-preprocessing>=1.0.5 in /home/jere/anaconda3/lib/python3.7/site-packages (from keras) (1.1.2)\n",
      "Requirement already satisfied: h5py in /home/jere/anaconda3/lib/python3.7/site-packages (from keras) (2.10.0)\n"
     ]
    }
   ],
   "source": [
    "#############################################################################################\n",
    "# Description:\n",
    "# In this file we want to apply a neural network to the wine dataset\n",
    "# The goal is to predict the wine quality as accurately as possible\n",
    "#\n",
    "#############################################################################################\n",
    "\n",
    "# Install keras in case you don't have it yet\n",
    "# Keras is used to run the neural net\n",
    "!pip install keras\n",
    "\n",
    "# This install is needed for some nice output of the neural net\n",
    "!pip install -q git+https://github.com/tensorflow/docs"
   ]
  },
  {
   "cell_type": "code",
   "execution_count": 2,
   "metadata": {},
   "outputs": [],
   "source": [
    "# Import all relevant packages\n",
    "import numpy as np\n",
    "import pandas as pd\n",
    "import seaborn as sns\n",
    "import tensorflow as tf\n",
    "\n",
    "from tensorflow import keras\n",
    "from tensorflow.keras import layers\n",
    "\n",
    "import matplotlib.pyplot as plt\n",
    "import tensorflow_docs as tfdocs\n",
    "import tensorflow_docs.plots\n",
    "import tensorflow_docs.modeling"
   ]
  },
  {
   "cell_type": "code",
   "execution_count": 3,
   "metadata": {},
   "outputs": [],
   "source": [
    "# Import both the red and white wine dataset\n",
    "# IMPORTANT: the folder \"data\" containing both tables should be in the same folder as the current file\n",
    "dataset_red = pd.read_csv('data/dataset_red.csv', index_col = 0)\n",
    "dataset_white = pd.read_csv('data/dataset_white.csv', index_col = 0)"
   ]
  },
  {
   "cell_type": "code",
   "execution_count": 4,
   "metadata": {},
   "outputs": [
    {
     "data": {
      "text/html": [
       "<div>\n",
       "<style scoped>\n",
       "    .dataframe tbody tr th:only-of-type {\n",
       "        vertical-align: middle;\n",
       "    }\n",
       "\n",
       "    .dataframe tbody tr th {\n",
       "        vertical-align: top;\n",
       "    }\n",
       "\n",
       "    .dataframe thead th {\n",
       "        text-align: right;\n",
       "    }\n",
       "</style>\n",
       "<table border=\"1\" class=\"dataframe\">\n",
       "  <thead>\n",
       "    <tr style=\"text-align: right;\">\n",
       "      <th></th>\n",
       "      <th>fixed_acidity</th>\n",
       "      <th>volatile_acidity</th>\n",
       "      <th>citric_acid</th>\n",
       "      <th>residual_sugar</th>\n",
       "      <th>chlorides</th>\n",
       "      <th>free_sulfur_dioxide</th>\n",
       "      <th>total_sulfur_dioxide</th>\n",
       "      <th>density</th>\n",
       "      <th>pH</th>\n",
       "      <th>sulphates</th>\n",
       "      <th>alcohol</th>\n",
       "      <th>quality</th>\n",
       "    </tr>\n",
       "  </thead>\n",
       "  <tbody>\n",
       "    <tr>\n",
       "      <th>0</th>\n",
       "      <td>7.4</td>\n",
       "      <td>0.70</td>\n",
       "      <td>0.00</td>\n",
       "      <td>1.9</td>\n",
       "      <td>0.076</td>\n",
       "      <td>11.0</td>\n",
       "      <td>34.0</td>\n",
       "      <td>0.9978</td>\n",
       "      <td>3.51</td>\n",
       "      <td>0.56</td>\n",
       "      <td>9.4</td>\n",
       "      <td>5</td>\n",
       "    </tr>\n",
       "    <tr>\n",
       "      <th>1</th>\n",
       "      <td>7.8</td>\n",
       "      <td>0.88</td>\n",
       "      <td>0.00</td>\n",
       "      <td>2.6</td>\n",
       "      <td>0.098</td>\n",
       "      <td>25.0</td>\n",
       "      <td>67.0</td>\n",
       "      <td>0.9968</td>\n",
       "      <td>3.20</td>\n",
       "      <td>0.68</td>\n",
       "      <td>9.8</td>\n",
       "      <td>5</td>\n",
       "    </tr>\n",
       "    <tr>\n",
       "      <th>2</th>\n",
       "      <td>7.8</td>\n",
       "      <td>0.76</td>\n",
       "      <td>0.04</td>\n",
       "      <td>2.3</td>\n",
       "      <td>0.092</td>\n",
       "      <td>15.0</td>\n",
       "      <td>54.0</td>\n",
       "      <td>0.9970</td>\n",
       "      <td>3.26</td>\n",
       "      <td>0.65</td>\n",
       "      <td>9.8</td>\n",
       "      <td>5</td>\n",
       "    </tr>\n",
       "    <tr>\n",
       "      <th>3</th>\n",
       "      <td>11.2</td>\n",
       "      <td>0.28</td>\n",
       "      <td>0.56</td>\n",
       "      <td>1.9</td>\n",
       "      <td>0.075</td>\n",
       "      <td>17.0</td>\n",
       "      <td>60.0</td>\n",
       "      <td>0.9980</td>\n",
       "      <td>3.16</td>\n",
       "      <td>0.58</td>\n",
       "      <td>9.8</td>\n",
       "      <td>6</td>\n",
       "    </tr>\n",
       "    <tr>\n",
       "      <th>4</th>\n",
       "      <td>7.4</td>\n",
       "      <td>0.70</td>\n",
       "      <td>0.00</td>\n",
       "      <td>1.9</td>\n",
       "      <td>0.076</td>\n",
       "      <td>11.0</td>\n",
       "      <td>34.0</td>\n",
       "      <td>0.9978</td>\n",
       "      <td>3.51</td>\n",
       "      <td>0.56</td>\n",
       "      <td>9.4</td>\n",
       "      <td>5</td>\n",
       "    </tr>\n",
       "  </tbody>\n",
       "</table>\n",
       "</div>"
      ],
      "text/plain": [
       "   fixed_acidity  volatile_acidity  citric_acid  residual_sugar  chlorides  \\\n",
       "0            7.4              0.70         0.00             1.9      0.076   \n",
       "1            7.8              0.88         0.00             2.6      0.098   \n",
       "2            7.8              0.76         0.04             2.3      0.092   \n",
       "3           11.2              0.28         0.56             1.9      0.075   \n",
       "4            7.4              0.70         0.00             1.9      0.076   \n",
       "\n",
       "   free_sulfur_dioxide  total_sulfur_dioxide  density    pH  sulphates  \\\n",
       "0                 11.0                  34.0   0.9978  3.51       0.56   \n",
       "1                 25.0                  67.0   0.9968  3.20       0.68   \n",
       "2                 15.0                  54.0   0.9970  3.26       0.65   \n",
       "3                 17.0                  60.0   0.9980  3.16       0.58   \n",
       "4                 11.0                  34.0   0.9978  3.51       0.56   \n",
       "\n",
       "   alcohol  quality  \n",
       "0      9.4        5  \n",
       "1      9.8        5  \n",
       "2      9.8        5  \n",
       "3      9.8        6  \n",
       "4      9.4        5  "
      ]
     },
     "execution_count": 4,
     "metadata": {},
     "output_type": "execute_result"
    }
   ],
   "source": [
    "# Look at the head of dataset of red wine to check whether everything looks okay\n",
    "dataset_red.head()"
   ]
  },
  {
   "cell_type": "code",
   "execution_count": 5,
   "metadata": {},
   "outputs": [
    {
     "data": {
      "text/html": [
       "<div>\n",
       "<style scoped>\n",
       "    .dataframe tbody tr th:only-of-type {\n",
       "        vertical-align: middle;\n",
       "    }\n",
       "\n",
       "    .dataframe tbody tr th {\n",
       "        vertical-align: top;\n",
       "    }\n",
       "\n",
       "    .dataframe thead th {\n",
       "        text-align: right;\n",
       "    }\n",
       "</style>\n",
       "<table border=\"1\" class=\"dataframe\">\n",
       "  <thead>\n",
       "    <tr style=\"text-align: right;\">\n",
       "      <th></th>\n",
       "      <th>fixed_acidity</th>\n",
       "      <th>volatile_acidity</th>\n",
       "      <th>citric_acid</th>\n",
       "      <th>residual_sugar</th>\n",
       "      <th>chlorides</th>\n",
       "      <th>free_sulfur_dioxide</th>\n",
       "      <th>total_sulfur_dioxide</th>\n",
       "      <th>density</th>\n",
       "      <th>pH</th>\n",
       "      <th>sulphates</th>\n",
       "      <th>alcohol</th>\n",
       "      <th>quality</th>\n",
       "    </tr>\n",
       "  </thead>\n",
       "  <tbody>\n",
       "    <tr>\n",
       "      <th>0</th>\n",
       "      <td>7.0</td>\n",
       "      <td>0.27</td>\n",
       "      <td>0.36</td>\n",
       "      <td>20.7</td>\n",
       "      <td>0.045</td>\n",
       "      <td>45.0</td>\n",
       "      <td>170.0</td>\n",
       "      <td>1.0010</td>\n",
       "      <td>3.00</td>\n",
       "      <td>0.45</td>\n",
       "      <td>8.8</td>\n",
       "      <td>6</td>\n",
       "    </tr>\n",
       "    <tr>\n",
       "      <th>1</th>\n",
       "      <td>6.3</td>\n",
       "      <td>0.30</td>\n",
       "      <td>0.34</td>\n",
       "      <td>1.6</td>\n",
       "      <td>0.049</td>\n",
       "      <td>14.0</td>\n",
       "      <td>132.0</td>\n",
       "      <td>0.9940</td>\n",
       "      <td>3.30</td>\n",
       "      <td>0.49</td>\n",
       "      <td>9.5</td>\n",
       "      <td>6</td>\n",
       "    </tr>\n",
       "    <tr>\n",
       "      <th>2</th>\n",
       "      <td>8.1</td>\n",
       "      <td>0.28</td>\n",
       "      <td>0.40</td>\n",
       "      <td>6.9</td>\n",
       "      <td>0.050</td>\n",
       "      <td>30.0</td>\n",
       "      <td>97.0</td>\n",
       "      <td>0.9951</td>\n",
       "      <td>3.26</td>\n",
       "      <td>0.44</td>\n",
       "      <td>10.1</td>\n",
       "      <td>6</td>\n",
       "    </tr>\n",
       "    <tr>\n",
       "      <th>3</th>\n",
       "      <td>7.2</td>\n",
       "      <td>0.23</td>\n",
       "      <td>0.32</td>\n",
       "      <td>8.5</td>\n",
       "      <td>0.058</td>\n",
       "      <td>47.0</td>\n",
       "      <td>186.0</td>\n",
       "      <td>0.9956</td>\n",
       "      <td>3.19</td>\n",
       "      <td>0.40</td>\n",
       "      <td>9.9</td>\n",
       "      <td>6</td>\n",
       "    </tr>\n",
       "    <tr>\n",
       "      <th>4</th>\n",
       "      <td>7.2</td>\n",
       "      <td>0.23</td>\n",
       "      <td>0.32</td>\n",
       "      <td>8.5</td>\n",
       "      <td>0.058</td>\n",
       "      <td>47.0</td>\n",
       "      <td>186.0</td>\n",
       "      <td>0.9956</td>\n",
       "      <td>3.19</td>\n",
       "      <td>0.40</td>\n",
       "      <td>9.9</td>\n",
       "      <td>6</td>\n",
       "    </tr>\n",
       "  </tbody>\n",
       "</table>\n",
       "</div>"
      ],
      "text/plain": [
       "   fixed_acidity  volatile_acidity  citric_acid  residual_sugar  chlorides  \\\n",
       "0            7.0              0.27         0.36            20.7      0.045   \n",
       "1            6.3              0.30         0.34             1.6      0.049   \n",
       "2            8.1              0.28         0.40             6.9      0.050   \n",
       "3            7.2              0.23         0.32             8.5      0.058   \n",
       "4            7.2              0.23         0.32             8.5      0.058   \n",
       "\n",
       "   free_sulfur_dioxide  total_sulfur_dioxide  density    pH  sulphates  \\\n",
       "0                 45.0                 170.0   1.0010  3.00       0.45   \n",
       "1                 14.0                 132.0   0.9940  3.30       0.49   \n",
       "2                 30.0                  97.0   0.9951  3.26       0.44   \n",
       "3                 47.0                 186.0   0.9956  3.19       0.40   \n",
       "4                 47.0                 186.0   0.9956  3.19       0.40   \n",
       "\n",
       "   alcohol  quality  \n",
       "0      8.8        6  \n",
       "1      9.5        6  \n",
       "2     10.1        6  \n",
       "3      9.9        6  \n",
       "4      9.9        6  "
      ]
     },
     "execution_count": 5,
     "metadata": {},
     "output_type": "execute_result"
    }
   ],
   "source": [
    "# Look at the head of dataset of white wine to check whether everything looks okay\n",
    "dataset_white.head()"
   ]
  },
  {
   "cell_type": "code",
   "execution_count": 6,
   "metadata": {},
   "outputs": [],
   "source": [
    "# Split the data into two parts, one for training (80%), and one for testing (20%)\n",
    "# Red wine:\n",
    "train_red = dataset_red.sample(frac=0.8,random_state=42)\n",
    "test_red = dataset_red.drop(train_red.index)\n",
    "\n",
    "# White wine:\n",
    "train_white = dataset_white.sample(frac=0.8,random_state=42)\n",
    "test_white = dataset_white.drop(train_white.index)"
   ]
  },
  {
   "cell_type": "code",
   "execution_count": 7,
   "metadata": {},
   "outputs": [],
   "source": [
    "# Get descriptive statistics for the red wine dataset\n",
    "train_stats_red = train_red.describe()\n",
    "train_stats_red.pop(\"quality\")\n",
    "train_stats_red = train_stats_red.transpose()\n",
    "\n",
    "# Get descriptive statistics for the white wine dataset\n",
    "train_stats_white = train_white.describe()\n",
    "train_stats_white.pop(\"quality\")\n",
    "train_stats_white = train_stats_white.transpose()"
   ]
  },
  {
   "cell_type": "code",
   "execution_count": 8,
   "metadata": {},
   "outputs": [],
   "source": [
    "# Remove the outcome variable\n",
    "train_labels_red = train_red.pop('quality')\n",
    "test_labels_red = test_red.pop('quality')\n",
    "\n",
    "train_labels_white = train_white.pop('quality')\n",
    "test_labels_white = test_white.pop('quality')"
   ]
  },
  {
   "cell_type": "code",
   "execution_count": 9,
   "metadata": {},
   "outputs": [],
   "source": [
    "# Define a function for normalizing the data\n",
    "# Normalizing is done by substracting the mean and then dividing by the standard deviation\n",
    "def norm(x, mean, std):\n",
    "  return (x - mean) / std"
   ]
  },
  {
   "cell_type": "code",
   "execution_count": 10,
   "metadata": {},
   "outputs": [],
   "source": [
    "# Normalize the red wine data\n",
    "normed_train_red = norm(train_red, train_stats_red['mean'], train_stats_red['std'])\n",
    "normed_test_red = norm(test_red, train_stats_red['mean'], train_stats_red['std'])\n",
    "\n",
    "# Normalize the white wine data\n",
    "normed_train_white = norm(train_white, train_stats_white['mean'], train_stats_white['std'])\n",
    "normed_test_white = norm(test_white, train_stats_white['mean'], train_stats_white['std'])"
   ]
  },
  {
   "cell_type": "code",
   "execution_count": 11,
   "metadata": {},
   "outputs": [],
   "source": [
    "# Define the neural net model\n",
    "# Our neural network contains of three layers:\n",
    "# layer 1: 64 nodes of relu activation functions\n",
    "# layer 2: 64 nodes of relu acitvation functions\n",
    "# layer 3: 10 modes of sigmoid activation functions\n",
    "# This is then condensed into a single number\n",
    "#\n",
    "# The neural network tries to minimize the mean square error (mse)\n",
    "def build_model(train):\n",
    "  model = keras.Sequential([\n",
    "    layers.Dense(64, activation='relu', input_shape=[len(train.keys())]),\n",
    "    layers.Dense(64, activation='relu'),\n",
    "    layers.Dense(10, activation='sigmoid'),\n",
    "    layers.Dense(1)\n",
    "  ])\n",
    "\n",
    "  optimizer = tf.keras.optimizers.RMSprop(0.0001)\n",
    "\n",
    "  model.compile(loss='mse',\n",
    "                optimizer=optimizer,\n",
    "                metrics=['mae', 'mse'])\n",
    "  return model"
   ]
  },
  {
   "cell_type": "code",
   "execution_count": 12,
   "metadata": {},
   "outputs": [],
   "source": [
    "# Create the model for the red wine data\n",
    "model_red = build_model(train_red)\n",
    "\n",
    "# Create the model for the red wine data\n",
    "model_white = build_model(train_white)"
   ]
  },
  {
   "cell_type": "code",
   "execution_count": 13,
   "metadata": {},
   "outputs": [
    {
     "name": "stdout",
     "output_type": "stream",
     "text": [
      "Model: \"sequential\"\n",
      "_________________________________________________________________\n",
      "Layer (type)                 Output Shape              Param #   \n",
      "=================================================================\n",
      "dense (Dense)                (None, 64)                768       \n",
      "_________________________________________________________________\n",
      "dense_1 (Dense)              (None, 64)                4160      \n",
      "_________________________________________________________________\n",
      "dense_2 (Dense)              (None, 64)                4160      \n",
      "_________________________________________________________________\n",
      "dense_3 (Dense)              (None, 1)                 65        \n",
      "=================================================================\n",
      "Total params: 9,153\n",
      "Trainable params: 9,153\n",
      "Non-trainable params: 0\n",
      "_________________________________________________________________\n"
     ]
    }
   ],
   "source": [
    "# Print summary for the red wine model\n",
    "model_red.summary()"
   ]
  },
  {
   "cell_type": "code",
   "execution_count": 14,
   "metadata": {},
   "outputs": [
    {
     "name": "stdout",
     "output_type": "stream",
     "text": [
      "Model: \"sequential_1\"\n",
      "_________________________________________________________________\n",
      "Layer (type)                 Output Shape              Param #   \n",
      "=================================================================\n",
      "dense_4 (Dense)              (None, 64)                768       \n",
      "_________________________________________________________________\n",
      "dense_5 (Dense)              (None, 64)                4160      \n",
      "_________________________________________________________________\n",
      "dense_6 (Dense)              (None, 64)                4160      \n",
      "_________________________________________________________________\n",
      "dense_7 (Dense)              (None, 1)                 65        \n",
      "=================================================================\n",
      "Total params: 9,153\n",
      "Trainable params: 9,153\n",
      "Non-trainable params: 0\n",
      "_________________________________________________________________\n"
     ]
    }
   ],
   "source": [
    "# Print summary for the white wine model\n",
    "model_white.summary()"
   ]
  },
  {
   "cell_type": "code",
   "execution_count": 15,
   "metadata": {},
   "outputs": [
    {
     "name": "stdout",
     "output_type": "stream",
     "text": [
      "\n",
      "Epoch: 0, loss:27.3794,  mae:5.1622,  mse:27.3794,  val_loss:25.5080,  val_mae:4.9735,  val_mse:25.5080,  \n",
      "....................................................................................................\n",
      "Epoch: 100, loss:0.3569,  mae:0.4722,  mse:0.3569,  val_loss:0.5573,  val_mae:0.5630,  val_mse:0.5573,  \n",
      "....................................................................................................\n",
      "Epoch: 200, loss:0.2439,  mae:0.3839,  mse:0.2439,  val_loss:0.5092,  val_mae:0.5371,  val_mse:0.5092,  \n",
      "....................................................................................................\n",
      "Epoch: 300, loss:0.1908,  mae:0.3353,  mse:0.1908,  val_loss:0.5050,  val_mae:0.5234,  val_mse:0.5050,  \n",
      "....................................................................................................\n",
      "Epoch: 400, loss:0.1517,  mae:0.2942,  mse:0.1517,  val_loss:0.5161,  val_mae:0.5213,  val_mse:0.5161,  \n",
      "....................................................................................................\n",
      "Epoch: 500, loss:0.1212,  mae:0.2603,  mse:0.1212,  val_loss:0.5618,  val_mae:0.5220,  val_mse:0.5618,  \n",
      "....................................................................................................\n",
      "Epoch: 600, loss:0.0966,  mae:0.2293,  mse:0.0966,  val_loss:0.5890,  val_mae:0.5229,  val_mse:0.5890,  \n",
      "....................................................................................................\n",
      "Epoch: 700, loss:0.0740,  mae:0.1972,  mse:0.0740,  val_loss:0.6236,  val_mae:0.5259,  val_mse:0.6236,  \n",
      "....................................................................................................\n",
      "Epoch: 800, loss:0.0570,  mae:0.1687,  mse:0.0570,  val_loss:0.6549,  val_mae:0.5260,  val_mse:0.6549,  \n",
      "....................................................................................................\n",
      "Epoch: 900, loss:0.0441,  mae:0.1488,  mse:0.0441,  val_loss:0.6755,  val_mae:0.5292,  val_mse:0.6755,  \n",
      "....................................................................................................\n",
      "Epoch: 1000, loss:0.0340,  mae:0.1315,  mse:0.0340,  val_loss:0.7091,  val_mae:0.5392,  val_mse:0.7091,  \n",
      "....................................................................................................\n",
      "Epoch: 1100, loss:0.0279,  mae:0.1178,  mse:0.0279,  val_loss:0.7290,  val_mae:0.5501,  val_mse:0.7290,  \n",
      "....................................................................................................\n",
      "Epoch: 1200, loss:0.0240,  mae:0.1092,  mse:0.0240,  val_loss:0.7471,  val_mae:0.5542,  val_mse:0.7471,  \n",
      "....................................................................................................\n",
      "Epoch: 1300, loss:0.0179,  mae:0.0951,  mse:0.0179,  val_loss:0.7643,  val_mae:0.5626,  val_mse:0.7643,  \n",
      "....................................................................................................\n",
      "Epoch: 1400, loss:0.0156,  mae:0.0886,  mse:0.0156,  val_loss:0.7834,  val_mae:0.5827,  val_mse:0.7834,  \n",
      "....................................................................................................\n",
      "Epoch: 1500, loss:0.0141,  mae:0.0830,  mse:0.0141,  val_loss:0.7858,  val_mae:0.5709,  val_mse:0.7858,  \n",
      "....................................................................................................\n",
      "Epoch: 1600, loss:0.0121,  mae:0.0790,  mse:0.0121,  val_loss:0.7931,  val_mae:0.5823,  val_mse:0.7931,  \n",
      "....................................................................................................\n",
      "Epoch: 1700, loss:0.0119,  mae:0.0798,  mse:0.0119,  val_loss:0.8113,  val_mae:0.5795,  val_mse:0.8113,  \n",
      "....................................................................................................\n",
      "Epoch: 1800, loss:0.0107,  mae:0.0768,  mse:0.0107,  val_loss:0.8089,  val_mae:0.5781,  val_mse:0.8089,  \n",
      "....................................................................................................\n",
      "Epoch: 1900, loss:0.0094,  mae:0.0723,  mse:0.0094,  val_loss:0.8208,  val_mae:0.5865,  val_mse:0.8208,  \n",
      "...................................................................................................."
     ]
    }
   ],
   "source": [
    "# We set the number of epochs to 2000, epochs are the number of times the training data is fed into the neural net\n",
    "EPOCHS = 2000\n",
    "\n",
    "# Fit the training data to the model and store it in history\n",
    "history = model_red.fit(\n",
    "  normed_train_red, train_labels_red,\n",
    "  epochs=EPOCHS, validation_split = 0.2, verbose=0,\n",
    "  callbacks=[tfdocs.modeling.EpochDots()])"
   ]
  },
  {
   "cell_type": "code",
   "execution_count": 16,
   "metadata": {},
   "outputs": [
    {
     "data": {
      "text/html": [
       "<div>\n",
       "<style scoped>\n",
       "    .dataframe tbody tr th:only-of-type {\n",
       "        vertical-align: middle;\n",
       "    }\n",
       "\n",
       "    .dataframe tbody tr th {\n",
       "        vertical-align: top;\n",
       "    }\n",
       "\n",
       "    .dataframe thead th {\n",
       "        text-align: right;\n",
       "    }\n",
       "</style>\n",
       "<table border=\"1\" class=\"dataframe\">\n",
       "  <thead>\n",
       "    <tr style=\"text-align: right;\">\n",
       "      <th></th>\n",
       "      <th>loss</th>\n",
       "      <th>mae</th>\n",
       "      <th>mse</th>\n",
       "      <th>val_loss</th>\n",
       "      <th>val_mae</th>\n",
       "      <th>val_mse</th>\n",
       "      <th>epoch</th>\n",
       "    </tr>\n",
       "  </thead>\n",
       "  <tbody>\n",
       "    <tr>\n",
       "      <th>0</th>\n",
       "      <td>27.379402</td>\n",
       "      <td>5.162210</td>\n",
       "      <td>27.379402</td>\n",
       "      <td>25.507965</td>\n",
       "      <td>4.973484</td>\n",
       "      <td>25.507965</td>\n",
       "      <td>0</td>\n",
       "    </tr>\n",
       "    <tr>\n",
       "      <th>1</th>\n",
       "      <td>23.575451</td>\n",
       "      <td>4.774714</td>\n",
       "      <td>23.575451</td>\n",
       "      <td>21.987358</td>\n",
       "      <td>4.596600</td>\n",
       "      <td>21.987358</td>\n",
       "      <td>1</td>\n",
       "    </tr>\n",
       "    <tr>\n",
       "      <th>2</th>\n",
       "      <td>19.673311</td>\n",
       "      <td>4.336504</td>\n",
       "      <td>19.673311</td>\n",
       "      <td>18.282534</td>\n",
       "      <td>4.155677</td>\n",
       "      <td>18.282534</td>\n",
       "      <td>2</td>\n",
       "    </tr>\n",
       "    <tr>\n",
       "      <th>3</th>\n",
       "      <td>15.733317</td>\n",
       "      <td>3.830410</td>\n",
       "      <td>15.733317</td>\n",
       "      <td>14.570529</td>\n",
       "      <td>3.668596</td>\n",
       "      <td>14.570529</td>\n",
       "      <td>3</td>\n",
       "    </tr>\n",
       "    <tr>\n",
       "      <th>4</th>\n",
       "      <td>11.897468</td>\n",
       "      <td>3.268723</td>\n",
       "      <td>11.897468</td>\n",
       "      <td>10.995053</td>\n",
       "      <td>3.125371</td>\n",
       "      <td>10.995053</td>\n",
       "      <td>4</td>\n",
       "    </tr>\n",
       "  </tbody>\n",
       "</table>\n",
       "</div>"
      ],
      "text/plain": [
       "        loss       mae        mse   val_loss   val_mae    val_mse  epoch\n",
       "0  27.379402  5.162210  27.379402  25.507965  4.973484  25.507965      0\n",
       "1  23.575451  4.774714  23.575451  21.987358  4.596600  21.987358      1\n",
       "2  19.673311  4.336504  19.673311  18.282534  4.155677  18.282534      2\n",
       "3  15.733317  3.830410  15.733317  14.570529  3.668596  14.570529      3\n",
       "4  11.897468  3.268723  11.897468  10.995053  3.125371  10.995053      4"
      ]
     },
     "execution_count": 16,
     "metadata": {},
     "output_type": "execute_result"
    }
   ],
   "source": [
    "# The head of the history of the data frame\n",
    "hist = pd.DataFrame(history.history)\n",
    "hist['epoch'] = history.epoch\n",
    "hist.head()\n",
    "\n",
    "# As we can see, the improvement is quite substantial in the beginning"
   ]
  },
  {
   "cell_type": "code",
   "execution_count": 17,
   "metadata": {},
   "outputs": [
    {
     "data": {
      "text/plain": [
       "Text(0, 0.5, 'MSE [quality]')"
      ]
     },
     "execution_count": 17,
     "metadata": {},
     "output_type": "execute_result"
    },
    {
     "data": {
      "image/png": "[encoded data removed]",
      "text/plain": [
       "<Figure size 432x288 with 1 Axes>"
      ]
     },
     "metadata": {
      "needs_background": "light"
     },
     "output_type": "display_data"
    }
   ],
   "source": [
    "# Plot the improvement of the MSE over the first 500 epochs\n",
    "plotter = tfdocs.plots.HistoryPlotter(smoothing_std=2)\n",
    "plotter.plot({'Basic': history}, metric = \"mse\")\n",
    "plt.ylim([0, 12])\n",
    "plt.xlim([0, 500])\n",
    "plt.ylabel('MSE [quality]')"
   ]
  },
  {
   "cell_type": "code",
   "execution_count": 18,
   "metadata": {},
   "outputs": [
    {
     "name": "stdout",
     "output_type": "stream",
     "text": [
      "10/10 - 0s - loss: 0.8600 - mae: 0.6187 - mse: 0.8600\n",
      "Red wine:\n",
      "Testing set Mean Abs Error:  0.62 \n",
      "Testing set MSE:  0.86 \n"
     ]
    }
   ],
   "source": [
    "# Print the results \n",
    "loss, mae, mse = model_red.evaluate(normed_test_red, test_labels_red, verbose=2)\n",
    "\n",
    "print(\"Red wine:\")\n",
    "print(\"Testing set Mean Abs Error: {:5.2f} \".format(mae))\n",
    "print(\"Testing set MSE: {:5.2f} \".format(mse))"
   ]
  },
  {
   "cell_type": "code",
   "execution_count": 19,
   "metadata": {},
   "outputs": [
    {
     "name": "stdout",
     "output_type": "stream",
     "text": [
      "\n",
      "Epoch: 0, loss:31.8431,  mae:5.5621,  mse:31.8431,  val_loss:24.9106,  val_mae:4.8849,  val_mse:24.9106,  \n",
      "....................................................................................................\n",
      "Epoch: 100, loss:0.3824,  mae:0.4833,  mse:0.3824,  val_loss:0.4912,  val_mae:0.5530,  val_mse:0.4912,  \n",
      "....................................................................................................\n",
      "Epoch: 200, loss:0.3067,  mae:0.4300,  mse:0.3067,  val_loss:0.4683,  val_mae:0.5322,  val_mse:0.4683,  \n",
      "....................................................................................................\n",
      "Epoch: 300, loss:0.2613,  mae:0.3940,  mse:0.2613,  val_loss:0.4635,  val_mae:0.5219,  val_mse:0.4635,  \n",
      "................................................."
     ]
    }
   ],
   "source": [
    "# Same as previously but now for the white wine\n",
    "early_stop_white = keras.callbacks.EarlyStopping(monitor='val_mse', patience=50)\n",
    "\n",
    "early_history_white = model_white.fit(normed_train_white, train_labels_white, \n",
    "                    epochs=EPOCHS, validation_split = 0.2, verbose=0, \n",
    "                    callbacks=[early_stop_white, tfdocs.modeling.EpochDots()])"
   ]
  },
  {
   "cell_type": "code",
   "execution_count": 20,
   "metadata": {},
   "outputs": [
    {
     "data": {
      "text/plain": [
       "Text(0, 0.5, 'MSE [quality]')"
      ]
     },
     "execution_count": 20,
     "metadata": {},
     "output_type": "execute_result"
    },
    {
     "data": {
      "image/png": "[encoded data removed]",
      "text/plain": [
       "<Figure size 432x288 with 1 Axes>"
      ]
     },
     "metadata": {
      "needs_background": "light"
     },
     "output_type": "display_data"
    }
   ],
   "source": [
    "# Plot the improvement of MSE in all epochs until the early stopping\n",
    "plotter.plot({'Early Stopping': early_history_white}, metric = \"mse\")\n",
    "plt.ylim([0, 12])\n",
    "plt.ylabel('MSE [quality]')"
   ]
  },
  {
   "cell_type": "code",
   "execution_count": 21,
   "metadata": {},
   "outputs": [
    {
     "name": "stdout",
     "output_type": "stream",
     "text": [
      "31/31 - 0s - loss: 0.5103 - mae: 0.5423 - mse: 0.5103\n",
      "White wine:\n",
      "Testing set Mean Abs Error:  0.54 \n",
      "Testing set MSE:  0.51 \n"
     ]
    }
   ],
   "source": [
    "# Evaluate the loss, mae and mse of our model based on the training set\n",
    "loss, mae, mse = model_white.evaluate(normed_test_white, test_labels_white, verbose=2)\n",
    "\n",
    "# Print the results \n",
    "print(\"White wine:\")\n",
    "print(\"Testing set Mean Abs Error: {:5.2f} \".format(mae))\n",
    "print(\"Testing set MSE: {:5.2f} \".format(mse))"
   ]
  }
 ],
 "metadata": {
  "kernelspec": {
   "display_name": "Python 3",
   "language": "python",
   "name": "python3"
  },
  "language_info": {
   "codemirror_mode": {
    "name": "ipython",
    "version": 3
   },
   "file_extension": ".py",
   "mimetype": "text/x-python",
   "name": "python",
   "nbconvert_exporter": "python",
   "pygments_lexer": "ipython3",
   "version": "3.7.6"
  }
 },
 "nbformat": 4,
 "nbformat_minor": 4
}
